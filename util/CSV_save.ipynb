{
 "cells": [
  {
   "cell_type": "code",
   "execution_count": 2,
   "metadata": {},
   "outputs": [],
   "source": [
    "import csv\n",
    "import io"
   ]
  },
  {
   "cell_type": "code",
   "execution_count": null,
   "metadata": {},
   "outputs": [],
   "source": [
    "FILENAME = 'NCAA_Basketball...csv'\n",
    "data=\"\"\"\n",
    "\n",
    "\"\"\""
   ]
  },
  {
   "cell_type": "code",
   "execution_count": 4,
   "metadata": {},
   "outputs": [
    {
     "name": "stdout",
     "output_type": "stream",
     "text": [
      "Data successfully saved to NCAA_Basketball_Adavanced_Statistics.csv\n"
     ]
    }
   ],
   "source": [
    "# Process the data\n",
    "def process_basketball_data(data_str):\n",
    "    # Split the string into lines\n",
    "    lines = data_str.strip().split('\\n')\n",
    "    \n",
    "    # Create a list to hold processed rows\n",
    "    processed_rows = []\n",
    "    \n",
    "    # Create a CSV reader from the data\n",
    "    for line in lines:\n",
    "        # Split the line by commas\n",
    "        row = line.split(',')\n",
    "        processed_rows.append(row)\n",
    "    \n",
    "    return processed_rows\n",
    "\n",
    "# Save to CSV file\n",
    "def save_to_csv(rows, filename='basketball_stats.csv'):\n",
    "    with open(filename, 'w', newline='') as csvfile:\n",
    "        csv_writer = csv.writer(csvfile)\n",
    "        for row in rows:\n",
    "            csv_writer.writerow(row)\n",
    "    \n",
    "    print(f\"Data successfully saved to {filename}\")\n",
    "\n",
    "# Alternative: process and return CSV as a string (useful for web applications)\n",
    "def get_csv_string(rows):\n",
    "    output = io.StringIO()\n",
    "    csv_writer = csv.writer(output)\n",
    "    for row in rows:\n",
    "        csv_writer.writerow(row)\n",
    "    \n",
    "    return output.getvalue()\n",
    "\n",
    "# Main execution\n",
    "if __name__ == \"__main__\":\n",
    "    processed_data = process_basketball_data(data)\n",
    "    \n",
    "    # Option 1: Save to file\n",
    "    save_to_csv(processed_data, 'NCAA_Basketball_Adavanced_Statistics.csv')\n",
    "    \n",
    "    # Option 2: Get CSV as string\n",
    "    # csv_string = get_csv_string(processed_data)\n",
    "    # print(csv_string)  # or use the string in other ways"
   ]
  },
  {
   "cell_type": "code",
   "execution_count": null,
   "metadata": {},
   "outputs": [],
   "source": []
  }
 ],
 "metadata": {
  "kernelspec": {
   "display_name": ".venv",
   "language": "python",
   "name": "python3"
  },
  "language_info": {
   "codemirror_mode": {
    "name": "ipython",
    "version": 3
   },
   "file_extension": ".py",
   "mimetype": "text/x-python",
   "name": "python",
   "nbconvert_exporter": "python",
   "pygments_lexer": "ipython3",
   "version": "3.12.4"
  }
 },
 "nbformat": 4,
 "nbformat_minor": 2
}
